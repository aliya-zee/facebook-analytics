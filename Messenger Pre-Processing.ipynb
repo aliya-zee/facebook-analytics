{
 "cells": [
  {
   "cell_type": "markdown",
   "metadata": {},
   "source": [
    "# Facebook Messenger Data Pre-Processing\n",
    "Creating a file to combine the data obtained through Facebook's \"Download your Information\" feature. Each thread (group chats and direct messages) is combined into a single CSV file used in other notebooks. For additional information on how to pull your own data, click [here](https://www.facebook.com/help/1701730696756992). "
   ]
  },
  {
   "cell_type": "code",
   "execution_count": 14,
   "metadata": {
    "scrolled": true
   },
   "outputs": [],
   "source": [
    "# Get list of all json files in the \"messages\" folder\n",
    "import os\n",
    "\n",
    "json_files = []\n",
    "# for subdir, dirs, files in os.walk(os.getcwd() + '\\\\messages'):\n",
    "for subdir, dirs, files in os.walk('C:\\\\Users\\\\aliya\\\\Documents\\\\Side Projects\\\\Facebook' + '\\\\messages'):\n",
    "    for file in [fi for fi in files if fi.endswith(\".json\")]:\n",
    "#         print(os.path.join(subdir, file))\n",
    "        json_files += [os.path.join(subdir, file)]"
   ]
  },
  {
   "cell_type": "code",
   "execution_count": 3,
   "metadata": {},
   "outputs": [
    {
     "data": {
      "text/plain": [
       "1040"
      ]
     },
     "execution_count": 3,
     "metadata": {},
     "output_type": "execute_result"
    }
   ],
   "source": [
    "# shows number of threads\n",
    "len(json_files)"
   ]
  },
  {
   "cell_type": "code",
   "execution_count": 12,
   "metadata": {},
   "outputs": [],
   "source": [
    "# For each thread, repeat thread attriutes across all messages\n",
    "import pandas as pd\n",
    "import json\n",
    "\n",
    "# Create empty dataframe\n",
    "json_pd_sub = pd.DataFrame()\n",
    "\n",
    "for file in json_files:\n",
    "    \n",
    "    # Open each json file\n",
    "    with open(file) as f:\n",
    "        thread = json.load(f)\n",
    "    \n",
    "    # Create a dataframe for just the 'messages' key\n",
    "    thread_data = pd.DataFrame(thread['messages'])\n",
    "    \n",
    "    # Create a list of all participants\n",
    "    participants = []\n",
    "    for name in thread['participants']:\n",
    "        participants += [name['name']]\n",
    "    \n",
    "    # Add thread attributes to all messages\n",
    "    thread_data['participants'] = str(participants)\n",
    "    thread_data['title'] = thread['title']\n",
    "    thread_data['is_still_participant'] = thread['is_still_participant']\n",
    "    thread_data['thread_type'] = thread['thread_type']\n",
    "    thread_data['thread_path'] = thread['thread_path']\n",
    "    \n",
    "    # Add clean data to the final dataset\n",
    "    json_pd_sub = json_pd_sub.append(thread_data)"
   ]
  },
  {
   "cell_type": "code",
   "execution_count": 13,
   "metadata": {},
   "outputs": [
    {
     "data": {
      "text/plain": [
       "(613195, 21)"
      ]
     },
     "execution_count": 13,
     "metadata": {},
     "output_type": "execute_result"
    }
   ],
   "source": [
    "# 600K messages with 21 features\n",
    "json_pd_sub.shape"
   ]
  },
  {
   "cell_type": "code",
   "execution_count": null,
   "metadata": {},
   "outputs": [],
   "source": [
    "# Write to a CSV for further analysis\n",
    "json_pd_sub.to_csv('Cleaned_messages.csv')"
   ]
  }
 ],
 "metadata": {
  "kernelspec": {
   "display_name": "Python 3",
   "language": "python",
   "name": "python3"
  },
  "language_info": {
   "codemirror_mode": {
    "name": "ipython",
    "version": 3
   },
   "file_extension": ".py",
   "mimetype": "text/x-python",
   "name": "python",
   "nbconvert_exporter": "python",
   "pygments_lexer": "ipython3",
   "version": "3.8.5"
  }
 },
 "nbformat": 4,
 "nbformat_minor": 4
}
